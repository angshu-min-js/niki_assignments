{
 "cells": [
  {
   "cell_type": "markdown",
   "metadata": {},
   "source": [
    "# Write a program that accepts an array/list/table of strings (number of strings is asked first),and sorts the array based on length of those strings."
   ]
  },
  {
   "cell_type": "markdown",
   "metadata": {},
   "source": [
    "### Method#1\n",
    "\n",
    "*Using a dictionary to store the length and sorting*"
   ]
  },
  {
   "cell_type": "code",
   "execution_count": 1,
   "metadata": {
    "collapsed": false
   },
   "outputs": [
    {
     "name": "stdout",
     "output_type": "stream",
     "text": [
      "angshu, angshuman, ang, angshumangupta\n",
      "Length Wise Sorted Array: \n",
      "(3, 'ang')\n",
      "(6, 'angshu')\n",
      "(9, 'angshuman')\n",
      "(14, 'angshumangupta')\n"
     ]
    }
   ],
   "source": [
    "txt = input()\n",
    "list = txt.split(\", \")\n",
    "lengthSort = zip(map(len,list), list)\n",
    "print (\"Length Wise Sorted Array: \")\n",
    "for i in sorted(lengthSort):\n",
    "    print (i)"
   ]
  },
  {
   "cell_type": "markdown",
   "metadata": {},
   "source": [
    "### Method#2\n",
    "\n",
    "*Using lambda function*"
   ]
  },
  {
   "cell_type": "code",
   "execution_count": 2,
   "metadata": {
    "collapsed": false
   },
   "outputs": [
    {
     "name": "stdout",
     "output_type": "stream",
     "text": [
      "angshu, angshuman, ang, angshumangupta\n",
      "Length Wise Sorted Array:  ['ang', 'angshu', 'angshuman', 'angshumangupta']\n"
     ]
    }
   ],
   "source": [
    "txt = input()\n",
    "list = txt.split(\", \")\n",
    "lengthSort = sorted(list, key = lambda str: len(str))\n",
    "print (\"Length Wise Sorted Array: \",lengthSort)"
   ]
  },
  {
   "cell_type": "markdown",
   "metadata": {},
   "source": [
    "### Method#3\n",
    "\n",
    "*Using merge sort*"
   ]
  },
  {
   "cell_type": "code",
   "execution_count": 3,
   "metadata": {
    "collapsed": false
   },
   "outputs": [
    {
     "name": "stdout",
     "output_type": "stream",
     "text": [
      "angshu, angshuman, ang, angshumangupta\n",
      "Length Wise Sorted Array:  ['ang', 'angshu', 'angshuman', 'angshumangupta']\n"
     ]
    }
   ],
   "source": [
    "def mergeSort(list):\n",
    "    if len(list)>1:\n",
    "        mid = len(list)//2\n",
    "        lefthalf = list[:mid]\n",
    "        righthalf = list[mid:]\n",
    "\n",
    "        mergeSort(lefthalf)\n",
    "        mergeSort(righthalf)\n",
    "\n",
    "        i=0\n",
    "        j=0\n",
    "        k=0\n",
    "        while i < len(lefthalf) and j < len(righthalf):\n",
    "            if len(lefthalf[i]) < len(righthalf[j]):\n",
    "                list[k]=lefthalf[i]\n",
    "                i=i+1\n",
    "            else:\n",
    "                list[k]=righthalf[j]\n",
    "                j=j+1\n",
    "            k=k+1\n",
    "\n",
    "        while i < len(lefthalf):\n",
    "            list[k]=lefthalf[i]\n",
    "            i=i+1\n",
    "            k=k+1\n",
    "\n",
    "        while j < len(righthalf):\n",
    "            list[k]=righthalf[j]\n",
    "            j=j+1\n",
    "            k=k+1\n",
    "\n",
    "txt = input()\n",
    "list = txt.split(\", \")\n",
    "mergeSort(list)\n",
    "print(\"Length Wise Sorted Array: \",list)\n"
   ]
  },
  {
   "cell_type": "code",
   "execution_count": null,
   "metadata": {
    "collapsed": true
   },
   "outputs": [],
   "source": []
  }
 ],
 "metadata": {
  "kernelspec": {
   "display_name": "Python 3",
   "language": "python",
   "name": "python3"
  },
  "language_info": {
   "codemirror_mode": {
    "name": "ipython",
    "version": 3
   },
   "file_extension": ".py",
   "mimetype": "text/x-python",
   "name": "python",
   "nbconvert_exporter": "python",
   "pygments_lexer": "ipython3",
   "version": "3.5.2"
  }
 },
 "nbformat": 4,
 "nbformat_minor": 1
}
